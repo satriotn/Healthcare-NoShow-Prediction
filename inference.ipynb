{
 "cells": [
  {
   "cell_type": "code",
   "execution_count": 17,
   "metadata": {},
   "outputs": [],
   "source": [
    "import pandas as pd\n",
    "import numpy as np\n",
    "import pickle\n",
    "\n"
   ]
  },
  {
   "cell_type": "code",
   "execution_count": 20,
   "metadata": {},
   "outputs": [],
   "source": [
    "\n",
    "# Load the trained model\n",
    "with open('deployment/bestmodel.pkl', 'rb') as file:\n",
    "    model = pickle.load(file)\n",
    "\n"
   ]
  },
  {
   "cell_type": "code",
   "execution_count": 24,
   "metadata": {},
   "outputs": [],
   "source": [
    "# Data dummy untuk inference\n",
    "data = {\n",
    "    'PatientId': [29872500000000, 55899780000000, 4262962000000, 867951200000, 8841186000000,\n",
    "                  12345670000000, 9876543000000, 2468139000000, 1357924680000, 2468135790000],\n",
    "    'AppointmentID': [5642903, 5642503, 5642549, 5642828, 5642494,\n",
    "                      5642300, 5642401, 5642502, 5642605, 5642708],\n",
    "    'Gender': ['F', 'M', 'F', 'F', 'F',\n",
    "               'M', 'M', 'F', 'F', 'M'],\n",
    "    'ScheduledDay': ['2016-04-29'] * 10,\n",
    "    'AppointmentDay': ['2016-04-29'] * 10,\n",
    "    'Age': [62, 56, 62, 8, 56, \n",
    "            34, 45, 29, 74, 50],\n",
    "    'Neighbourhood': ['JARDIM DA PENHA', 'JARDIM DA PENHA', 'MATA DA PRAIA', 'PONTAL DE CAMBURI', \n",
    "                      'JARDIM DA PENHA', 'CENTRO', 'VILA VELHA', 'JARDIM BOTÂNICO', \n",
    "                      'BARRA DA TIJUCA', 'PRAIA DO CANTO'],\n",
    "    'Scholarship': [False, False, False, False, False,\n",
    "                    True, True, False, True, False],\n",
    "    'Hipertension': [True, False, False, False, True,\n",
    "                     False, True, False, False, True],\n",
    "    'Diabetes': [False, False, False, False, True,\n",
    "                 False, False, True, False, True],\n",
    "    'Alcoholism': [False, False, False, False, False,\n",
    "                   True, False, True, False, False],\n",
    "    'Handcap': [False, False, False, False, False,\n",
    "                False, True, False, False, False],\n",
    "    'SMS_received': [False, False, False, True, True,\n",
    "                     False, True, True, False, False],\n",
    "    'Showed_up': [True, True, True, True, False,\n",
    "                  False, True, True, False, True],\n",
    "    'Date.diff': [0, 5, 10, 15, 30,\n",
    "                  1, 2, 6, 12, 25]  # Selisih hari (Date.diff) bervariasi hingga 30 hari\n",
    "}\n",
    "\n",
    "df = pd.DataFrame(data)\n",
    "\n"
   ]
  },
  {
   "cell_type": "code",
   "execution_count": 25,
   "metadata": {},
   "outputs": [],
   "source": [
    "predictions = model.predict(df)"
   ]
  },
  {
   "cell_type": "code",
   "execution_count": 26,
   "metadata": {},
   "outputs": [
    {
     "name": "stdout",
     "output_type": "stream",
     "text": [
      "Predictions: [ True False False False  True  True  True False  True  True]\n"
     ]
    }
   ],
   "source": [
    "print(\"Predictions:\", predictions)"
   ]
  }
 ],
 "metadata": {
  "language_info": {
   "name": "python"
  }
 },
 "nbformat": 4,
 "nbformat_minor": 2
}
